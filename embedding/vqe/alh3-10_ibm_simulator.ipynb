{
 "cells": [
  {
   "cell_type": "code",
   "execution_count": 1,
   "metadata": {},
   "outputs": [],
   "source": [
    "from qiskit_nature.second_q.drivers import PySCFDriver       \n",
    "from qiskit_nature.second_q.formats import MoleculeInfo\n",
    "from qiskit_nature.second_q.mappers import JordanWignerMapper\n",
    "from qiskit.circuit.library import TwoLocal\n",
    "from qiskit_algorithms.optimizers import SLSQP, COBYLA\n",
    "\n",
    "from qiskit_nature.second_q.transformers import FreezeCoreTransformer, ActiveSpaceTransformer\n",
    "from qiskit_nature.second_q.algorithms import GroundStateEigensolver\n",
    "from qiskit_nature.second_q.circuit.library import HartreeFock, UCCSD\n",
    "from qiskit_algorithms import NumPyMinimumEigensolver, VQE\n",
    "\n",
    "from qiskit_aer.primitives import Estimator as AerEstimator                                                                          \n",
    "from qiskit.primitives import BackendEstimator\n"
   ]
  },
  {
   "cell_type": "code",
   "execution_count": 2,
   "metadata": {},
   "outputs": [],
   "source": [
    "import numpy as np\n",
    "import os\n",
    "import sys\n",
    "\n",
    "from scipy.optimize import minimize"
   ]
  },
  {
   "cell_type": "code",
   "execution_count": 3,
   "metadata": {},
   "outputs": [],
   "source": [
    "info = MoleculeInfo([\"Al\", \"H\", \"H\", \"H\"], [(0.0, 0.0, 0.0),(0.0, 1.58588, 0.0),(1.3733, -0.79293, 0.0),(-1.3734, -0.79296, 0.0)])\n",
    "driver = PySCFDriver.from_molecule(info, basis=\"sto-3g\")\n",
    "molecule = driver.run()"
   ]
  },
  {
   "cell_type": "code",
   "execution_count": 5,
   "metadata": {},
   "outputs": [],
   "source": [
    "as_transformer = ActiveSpaceTransformer(10, 5, active_orbitals=[5, 6, 7, 8, 9])\n",
    "as_problem = as_transformer.transform(molecule)\n",
    "\n",
    "hamiltonian = as_problem.hamiltonian.second_q_op()"
   ]
  },
  {
   "cell_type": "code",
   "execution_count": 6,
   "metadata": {},
   "outputs": [],
   "source": [
    "mapper = JordanWignerMapper()\n",
    "qubit_hamiltonian = mapper.map(hamiltonian)"
   ]
  },
  {
   "cell_type": "code",
   "execution_count": 23,
   "metadata": {},
   "outputs": [],
   "source": [
    "ansatz = TwoLocal(\n",
    "    num_qubits = qubit_hamiltonian.num_qubits,\n",
    "    rotation_blocks=[\"ry\", \"rz\"],\n",
    "    entanglement_blocks=\"cx\",\n",
    "    entanglement=\"linear\",\n",
    "    reps=2,\n",
    ")\n",
    "\n",
    "#  initial_state = HartreeFock(\n",
    "#         as_problem.num_spatial_orbitals,\n",
    "#         as_problem.num_particles,\n",
    "#         mapper,\n",
    "#     ),"
   ]
  },
  {
   "cell_type": "code",
   "execution_count": 24,
   "metadata": {},
   "outputs": [],
   "source": [
    "ideal_estimator = AerEstimator(\n",
    "    run_options={\"shots\": 1024},\n",
    "    approximation=True,\n",
    ")"
   ]
  },
  {
   "cell_type": "code",
   "execution_count": 25,
   "metadata": {},
   "outputs": [
    {
     "data": {
      "text/plain": [
       "60"
      ]
     },
     "execution_count": 25,
     "metadata": {},
     "output_type": "execute_result"
    }
   ],
   "source": [
    "num_params = ansatz.num_parameters\n",
    "num_params"
   ]
  },
  {
   "cell_type": "code",
   "execution_count": 26,
   "metadata": {},
   "outputs": [],
   "source": [
    "counts = []\n",
    "values = []\n",
    "def store_intermediate_result(eval_count, parameters, mean, std):\n",
    "    counts.append(eval_count)\n",
    "    values.append(mean)\n",
    "    print(eval_count, len(parameters), mean)"
   ]
  },
  {
   "cell_type": "code",
   "execution_count": 30,
   "metadata": {},
   "outputs": [],
   "source": [
    "vqe_solver = VQE(ideal_estimator, ansatz, SLSQP(maxiter=2), callback=store_intermediate_result)"
   ]
  },
  {
   "cell_type": "code",
   "execution_count": 31,
   "metadata": {},
   "outputs": [
    {
     "name": "stdout",
     "output_type": "stream",
     "text": [
      "1 60 -5.433539775764874\n",
      "2 60 -5.441653915718874\n",
      "3 60 -5.408640462392613\n",
      "4 60 -5.379997308010521\n",
      "5 60 -5.397766534649447\n",
      "6 60 -5.404921773464748\n",
      "7 60 -5.385815447033771\n",
      "8 60 -5.444347184136293\n",
      "9 60 -5.410806542908153\n",
      "10 60 -5.381739338491354\n",
      "11 60 -5.38326814797032\n",
      "12 60 -5.424053477972204\n",
      "13 60 -5.396216540469689\n",
      "14 60 -5.392024779757257\n",
      "15 60 -5.425208547527235\n",
      "16 60 -5.386504836644008\n",
      "17 60 -5.41630519733007\n",
      "18 60 -5.357110153556202\n",
      "19 60 -5.454271566064073\n",
      "20 60 -5.376218761479486\n",
      "21 60 -5.407002514899802\n",
      "22 60 -5.382783183208506\n",
      "23 60 -5.416245079615985\n",
      "24 60 -5.429320344143549\n",
      "25 60 -5.400194435719765\n",
      "26 60 -5.388555873374347\n",
      "27 60 -5.379145756541337\n",
      "28 60 -5.376444689926776\n",
      "29 60 -5.418034495265641\n",
      "30 60 -5.426294041114962\n",
      "31 60 -5.3940102185268675\n",
      "32 60 -5.424044114985459\n",
      "33 60 -5.386989728209073\n",
      "34 60 -5.382448320513337\n",
      "35 60 -5.39059813533584\n",
      "36 60 -5.35305336228865\n",
      "37 60 -5.35318010918475\n",
      "38 60 -5.3879485352635825\n",
      "39 60 -5.381135659282265\n",
      "40 60 -5.35245598719993\n",
      "41 60 -5.392031923222764\n",
      "42 60 -5.425939394721675\n",
      "43 60 -5.359126684679819\n",
      "44 60 -5.42338576522272\n",
      "45 60 -5.353026655361384\n",
      "46 60 -5.433289931482079\n",
      "47 60 -5.413888730473881\n",
      "48 60 -5.43013165516334\n",
      "49 60 -5.3989676049832855\n",
      "50 60 -5.4015676274797455\n",
      "51 60 -5.345532001298478\n",
      "52 60 -5.400467120656317\n",
      "53 60 -5.368920674916634\n",
      "54 60 -5.436780558172959\n",
      "55 60 -5.391533128262772\n",
      "56 60 -5.406933507476231\n",
      "57 60 -5.390269391483874\n",
      "58 60 -5.442404800048578\n",
      "59 60 -5.359545713815558\n",
      "60 60 -5.374566630540663\n",
      "61 60 -5.416959486612714\n",
      "62 60 -5.557779137150111\n",
      "63 60 -5.4185231134714344\n",
      "64 60 -5.199154312371156\n",
      "65 60 -5.176745429635532\n",
      "66 60 -5.6685032192261\n",
      "67 60 -5.071715632534766\n",
      "68 60 -5.386379930613645\n",
      "69 60 -5.287865581360471\n",
      "70 60 -5.422609046830353\n",
      "71 60 -5.629962405604113\n",
      "72 60 -5.472062606791555\n",
      "73 60 -5.465083310189119\n",
      "74 60 -5.443725074147249\n",
      "75 60 -5.446937817896265\n",
      "76 60 -5.459351933589668\n",
      "77 60 -5.444518212511026\n",
      "78 60 -5.46143545337012\n",
      "79 60 -5.5016009254738885\n",
      "80 60 -5.4464168349448885\n",
      "81 60 -5.4558200475215815\n",
      "82 60 -5.439165159190629\n",
      "83 60 -5.485776178718059\n",
      "84 60 -5.428114462870497\n",
      "85 60 -5.429541462078759\n",
      "86 60 -5.436612305395565\n",
      "87 60 -5.4365877410365355\n",
      "88 60 -5.4644956356481735\n",
      "89 60 -5.455550825100779\n",
      "90 60 -5.4791051629242675\n",
      "91 60 -5.441715507895189\n",
      "92 60 -5.45881773656349\n",
      "93 60 -5.401910304122197\n",
      "94 60 -5.493154266151728\n",
      "95 60 -5.4296314019739\n",
      "96 60 -5.422980028997363\n",
      "97 60 -5.482226378269597\n",
      "98 60 -5.505320918896477\n",
      "99 60 -5.435063064220715\n",
      "100 60 -5.428060520098831\n",
      "101 60 -5.4686145234600705\n",
      "102 60 -5.4821839815208415\n",
      "103 60 -5.439122594952513\n",
      "104 60 -5.49173235655458\n",
      "105 60 -5.490067939317829\n",
      "106 60 -5.4264901223959265\n",
      "107 60 -5.446561597331049\n",
      "108 60 -5.4816770016382925\n",
      "109 60 -5.4948236676327085\n",
      "110 60 -5.51090945827469\n",
      "111 60 -5.4492817755418015\n",
      "112 60 -5.5235880340536125\n",
      "113 60 -5.454094330787733\n",
      "114 60 -5.4855019048322875\n",
      "115 60 -5.481066646809282\n",
      "116 60 -5.4665006694044065\n",
      "117 60 -5.412247773704354\n",
      "118 60 -5.466590918615036\n",
      "119 60 -5.432513936688826\n",
      "120 60 -5.515626234075867\n",
      "121 60 -5.407332323999956\n",
      "122 60 -5.424356879643466\n",
      "123 60 -5.4535418213111235\n",
      "124 60 -5.45239574364289\n",
      "125 60 -5.438004569696115\n",
      "126 60 -5.41820677766031\n",
      "127 60 -5.473063050479307\n",
      "128 60 -5.483920266834148\n",
      "129 60 -5.41569238952874\n",
      "130 60 -5.502938385494801\n",
      "131 60 -5.487865780792914\n",
      "132 60 -5.503804200564548\n"
     ]
    }
   ],
   "source": [
    "calc = GroundStateEigensolver(mapper, vqe_solver)\n",
    "res = calc.solve(as_problem)"
   ]
  },
  {
   "cell_type": "code",
   "execution_count": 32,
   "metadata": {},
   "outputs": [
    {
     "data": {
      "text/plain": [
       "array([-5.47206261])"
      ]
     },
     "execution_count": 32,
     "metadata": {},
     "output_type": "execute_result"
    }
   ],
   "source": [
    "res.eigenvalues"
   ]
  }
 ],
 "metadata": {
  "kernelspec": {
   "display_name": "abqcc",
   "language": "python",
   "name": "python3"
  },
  "language_info": {
   "codemirror_mode": {
    "name": "ipython",
    "version": 3
   },
   "file_extension": ".py",
   "mimetype": "text/x-python",
   "name": "python",
   "nbconvert_exporter": "python",
   "pygments_lexer": "ipython3",
   "version": "3.10.12"
  }
 },
 "nbformat": 4,
 "nbformat_minor": 2
}
